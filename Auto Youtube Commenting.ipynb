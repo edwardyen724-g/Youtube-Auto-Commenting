{
 "cells": [
  {
   "cell_type": "markdown",
   "metadata": {},
   "source": [
    "This is a short project intend to familiarize myself with Youtube api. The code continuously will look new video uploads in a specific youtube channel or playlist. After detecting a new video upload, it can comment certain sentences under the video. "
   ]
  },
  {
   "cell_type": "code",
   "execution_count": null,
   "metadata": {},
   "outputs": [],
   "source": [
    "import json\n",
    "from urllib.request import urlopen\n",
    "import time \n",
    "\n",
    "from apiclient.discovery import build \n",
    "from google_auth_oauthlib.flow import InstalledAppFlow"
   ]
  },
  {
   "cell_type": "code",
   "execution_count": null,
   "metadata": {},
   "outputs": [],
   "source": [
    "CLIENT_SECRET_FILE = 'client_secret.json'\n",
    "scopes = [\"https://www.googleapis.com/auth/youtube.force-ssl\"]\n",
    "#api_key = '########################3'\n",
    "flow = InstalledAppFlow.from_client_secrets_file(CLIENT_SECRET_FILE, scopes)\n",
    "credentials = flow.run_console()\n",
    "\n",
    "youtube = build('youtube','v3',credentials=credentials)\n",
    "\n"
   ]
  },
  {
   "cell_type": "code",
   "execution_count": null,
   "metadata": {},
   "outputs": [],
   "source": [
    "#channel_id = \"##################\"\n",
    "#latest_video_id = '###########'\n",
    "#playlistId='#################'\n",
    "\n",
    "def look_for_new_video():\n",
    "    newvideo = youtube.playlistItems().list(playlistId=playlistId,part='snippet',maxResults=1).execute()\n",
    "    vidID = newvideo['items'][0]['snippet']['resourceId']['videoId']\n",
    "    if latest_video_id != vidID:\n",
    "        youtube.commentThreads().insert(\n",
    "            part=\"snippet\",\n",
    "            body={\n",
    "                \"snippet\": {\n",
    "                    \"videoId\": vidID,\n",
    "                    \"topLevelComment\": {\n",
    "                        \"snippet\": {\n",
    "                            \"textOriginal\": \"##############################\"\n",
    "                        }\n",
    "                    }\n",
    "                }\n",
    "            }\n",
    "        ).execute()\n",
    "\n",
    "try:\n",
    "    while True:\n",
    "        look_for_new_video()\n",
    "        time.sleep(9)\n",
    "        \n",
    "except KeyboardInterrupt:\n",
    "    print(\"stopped\")"
   ]
  },
  {
   "cell_type": "code",
   "execution_count": null,
   "metadata": {},
   "outputs": [],
   "source": [
    "#new = youtube.playlistItems().list(playlistId='#######',part='snippet',maxResults=1).execute()"
   ]
  },
  {
   "cell_type": "code",
   "execution_count": null,
   "metadata": {
    "scrolled": false
   },
   "outputs": [],
   "source": [
    "#new"
   ]
  },
  {
   "cell_type": "code",
   "execution_count": null,
   "metadata": {},
   "outputs": [],
   "source": [
    "new['items'][0]['snippet']['resourceId']['videoId']"
   ]
  }
 ],
 "metadata": {
  "kernelspec": {
   "display_name": "Python 3",
   "language": "python",
   "name": "python3"
  },
  "language_info": {
   "codemirror_mode": {
    "name": "ipython",
    "version": 3
   },
   "file_extension": ".py",
   "mimetype": "text/x-python",
   "name": "python",
   "nbconvert_exporter": "python",
   "pygments_lexer": "ipython3",
   "version": "3.6.6"
  }
 },
 "nbformat": 4,
 "nbformat_minor": 2
}
